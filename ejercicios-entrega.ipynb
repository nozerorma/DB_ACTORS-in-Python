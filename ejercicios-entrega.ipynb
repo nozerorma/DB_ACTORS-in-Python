{
 "cells": [
  {
   "cell_type": "markdown",
   "metadata": {},
   "source": [
    "<center><b><font color='DARKRED' size='6px'>Máster en Bioinformática Aplicada a Medicina Personalizada y Salud</font></b></center>"
   ]
  },
  {
   "cell_type": "markdown",
   "metadata": {},
   "source": [
    "<center><b><font color='DARKRED' size='6px'>Curso 2022-2023</font></b></center>"
   ]
  },
  {
   "cell_type": "markdown",
   "metadata": {},
   "source": [
    "# Nombre y apellidos: "
   ]
  },
  {
   "cell_type": "markdown",
   "metadata": {},
   "source": [
    "# <font color='FIREBRICK'>Ejercicios entrega.</font>"
   ]
  },
  {
   "cell_type": "markdown",
   "metadata": {},
   "source": [
    "<font size='3px'><p style=\"text-align: justify;line-height: 150%\">Realizar cada uno de los ejercicios utilizando este notebook como plantilla:</p></font>"
   ]
  },
  {
   "cell_type": "markdown",
   "metadata": {},
   "source": [
    "## <font color='FIREBRICK'>Ejercicio 1 (7 puntos)</font>\n",
    "\n",
    "<font size='3px'><p style=\"text-align: justify;line-height: 150%\">Queremos almacenar los datos de nuestros actores favoritos en una base de datos (BBDD), pero no nos gusta ninguna de las disponibles, por lo tanto vamos a construirla nosotros mismos.</p></font>\n",
    "    \n",
    "<font size='3px'><p style=\"text-align: justify;line-height: 150%\">La BBDD será un diccionario de diccionarios. Para el primer diccionario la clave será el nombre del actor. El segundo diccionario (el que estaría dentro del primer diccionario) consta de 3 campos: año de nacimiento, sexo y una lista con el nombre de las películas en las que ha participado.</p></font>\n",
    "\n",
    "<font size='3px'><p style=\"text-align: justify;line-height: 150%\">El programa nos permitirá hacer una serie de cosas, elegidas por un menú:</p></font>\n",
    "\n",
    "<div style=\"font-size: 16px; line-height: 150%\">\n",
    "<ol>\n",
    "    1. Introducir los datos de un nuevo actor o actriz (el número de películas puede variar de un actor a otro) (si el actor ya existía en la BBDD se sobreescribirán los datos).<br/>\n",
    "    2. Listar todos los actores mostrando únicamente sus nombres (con cierto formato).<br/>\n",
    "    3. Mostrar los datos de un determinado actor o actriz (con cierto formato).<br/>\n",
    "    4. Buscar aquellos actores cuyo año de nacimiento se encuentre en un determinado rango de años (que se le pedirá al usuario).<br/>\n",
    "    5. Buscar aquellos actores de un sexo determinado.<br/>\n",
    "    6. Buscar aquellos actores que hayan participado en una película.<br/>\n",
    "    0. Salir del programa.        \n",
    "</ol>\n",
    "</div>"
   ]
  },
  {
   "cell_type": "markdown",
   "metadata": {},
   "source": [
    "# PRACTICE STAB"
   ]
  },
  {
   "cell_type": "code",
   "execution_count": null,
   "metadata": {},
   "outputs": [
    {
     "name": "stdout",
     "output_type": "stream",
     "text": [
      "Base de datos de Actores\n",
      "por Miguel Ramón Alonso\n",
      "\n",
      "Opciones:\n",
      "1) Inserta una nueva entrada\n",
      "2) Lista el nombre de los actores presentes en la BBDD\n",
      "3) Muestra los datos de un actor determinado\n",
      "4) Muestra el nombre de aquellos actores nacidos en un rango de años especificado\n",
      "5) Muestra aquellos actores del sexo especificado\n",
      "6) Muestra aquellos actores que hayan aparecido en una película determinada\n",
      "\n",
      "0) Sal del programa\n",
      "\n",
      "¿Qué deseas hacer? 1\n",
      "Nombre del actor/actriz: Ana Solana\n",
      "Año de nacimiento (yyyy): 1998\n",
      "Sexo del actor/actriz (H/M): M\n",
      "Inserte una película. Si desea continuar añadiendo películas, pulse Enter. En caso contrario, por favor, pulse 0.\n",
      "Mentira\n",
      "['Mentira']\n",
      "Inserte una película. Si desea continuar añadiendo películas, pulse Enter. En caso contrario, por favor, pulse 0.\n",
      "Matriarca\n",
      "['Mentira', 'Matriarca']\n",
      "Inserte una película. Si desea continuar añadiendo películas, pulse Enter. En caso contrario, por favor, pulse 0.\n",
      "0\n",
      "¿Qué deseas hacer? 2\n",
      "['Actor One', 'Actor Two', 'Ana Solana']\n"
     ]
    }
   ],
   "source": [
    "# Realice el ejercicio dentro del cuadro a continuación de esta línea \n",
    "\n",
    "# Os dejo un ejemplo de inicialización de la base de datos para que veáis la estructura (vuestra base de datos inicialmente estará vacía).\n",
    "#BBDD_actores = {\n",
    "#    'Keanu Reeves' : {\n",
    "#        'año' : 1964, \n",
    "#        'sexo' : 'masculino', \n",
    "#        'peliculas' : ['Speed', 'The Matrix', 'Constantine']\n",
    "#    }\n",
    "#}\n",
    "\n",
    "# Pseudo first approach\n",
    " \n",
    "# 1)  First dict. k:actor name\n",
    "\n",
    "# First dict\n",
    "\n",
    "#this is a try of how git on android looks like\n",
    "#second try\n",
    "#thirdiesss\n",
    "import re\n",
    "\n",
    "'''\n",
    "def getch():\n",
    "    fd = sys.stdin.fileno()\n",
    "    old_settings = termios.tcgetattr(fd)\n",
    "    try:\n",
    "        tty.setraw(fd)\n",
    "        ch = sys.stdin.read(1)\n",
    "    finally:\n",
    "        termios.tcsetattr(fd, termios.TCSADRAIN, old_settings)\n",
    "    return ch\n",
    "'''\n",
    "\n",
    "def append_pelicula() :\n",
    "    l_peliculas = []\n",
    "     # gotta make this last as list so can append\n",
    "    while True :\n",
    "        peliculas_actor = input('Inserte una película. Si desea continuar añadiendo películas, pulse Enter. \\\n",
    "En caso contrario, por favor, pulse 0.\\n')\n",
    "        if peliculas_actor == '0' : # cambiar esto por logica escape\n",
    "            break\n",
    "        else:\n",
    "            l_peliculas.append(peliculas_actor)\n",
    "            print(l_peliculas)\n",
    "            continue\n",
    "    \n",
    "BBDD_actores = {\n",
    "    'Actor One' : {\n",
    "        'año' : 2020,\n",
    "        'sexo' : 'masculino',\n",
    "        'peliculas' : ['Película 1', 'Película 2', 'Película 3']\n",
    "    },\n",
    "    'Actor Two' : {\n",
    "        'año' : 2022,\n",
    "        'sexo' : 'femenino',\n",
    "        'peliculas' : ['Película 4', 'Película 5', 'Película 6']\n",
    "    }\n",
    "}\n",
    "# CSV FORMAT: \n",
    "# Actor One; 2020; Masculino; Película 1; Película 2; Película 3\n",
    "\n",
    "# #2)  Second dict (embeded) three keys\n",
    "#         a)  Date of birth yyyy\n",
    "#         b)  Sex\n",
    "#         c)  [Films in which he has appeared]\n",
    "\n",
    "# 3)  Crear un menú que permita:\n",
    "print('Base de datos de Actores')\n",
    "print('por Miguel Ramón Alonso\\n')\n",
    "\n",
    "print('Opciones:')\n",
    "print('1) Inserta una nueva entrada')\n",
    "print('2) Lista el nombre de los actores presentes en la BBDD')\n",
    "print('3) Muestra los datos de un actor determinado')\n",
    "print('4) Muestra el nombre de aquellos actores nacidos en un rango de años especificado')\n",
    "print('5) Muestra aquellos actores del sexo especificado')\n",
    "print('6) Muestra aquellos actores que hayan aparecido en una película determinada')\n",
    "print('\\n0) Sal del programa\\n')\n",
    "\n",
    "# definición de la función para los puntos 3,4 y 5.\n",
    "#def busqueda(campo) :\n",
    "    #kojaslfkjalkñfjaksjfñ ÑLIJSÑAKDJLÑKJFAS\n",
    "\n",
    "while True :\n",
    "    # Intro menú\n",
    "    opcion = int(input('¿Qué deseas hacer? '))\n",
    "    if opcion == 0 :\n",
    "        fichero = ('BBDD_actores.txt', 'w')\n",
    "        for actor in BBDD_actores :\n",
    "            # esto hay que corregirlo imprimiendo formato de diccionario, no me gusta\n",
    "            actor_guardado = actor['actor'] + ';' + año['año'] + ';' + sexo['sexo'] \\\n",
    "            + ';' + lista_peliculas['mirar formato inferior']\n",
    "            fichero.write(actor_guardado)\n",
    "        fichero.close()\n",
    "        print('Cerrando programa...')\n",
    "        break\n",
    "        # skip until further understanding BANG BANG BANG!!!\n",
    "\n",
    "#    1)  Insertar nuevo actor\n",
    "#       -   Si existe, se sobreescribirá\n",
    "    elif opcion == 1 :\n",
    "        # recogida de datos\n",
    "        nombre_actor = input('Nombre del actor/actriz : ')\n",
    "        año_actor = int(input('Año de nacimiento (yyyy) : '))\n",
    "        sexo_actor = input('Sexo del actor/actriz (H/M) : ')\n",
    "        # maybe make this function??\n",
    "        l_peliculas = []\n",
    "        # gotta make this last as list so can append\n",
    "        while True :\n",
    "            peliculas_actor = input('Inserte una película. Si desea continuar añadiendo películas, pulse Enter. \\\n",
    "En caso contrario, por favor, pulse 0.\\n')\n",
    "            if peliculas_actor == '0' : # cambiar esto por logica escape\n",
    "                break\n",
    "            else:\n",
    "                l_peliculas.append(peliculas_actor)\n",
    "                print(l_peliculas)\n",
    "                continue\n",
    "        # creo un diccionario\n",
    "        dict_actor = {\n",
    "            nombre_actor : {\n",
    "                'año' : año_actor,\n",
    "                'sexo' : sexo_actor,\n",
    "                'peliculas' : l_peliculas   \n",
    "            } \n",
    "        }\n",
    "        # añadir diccionario a BD_actor\n",
    "        BBDD_actores.update(dict_actor)\n",
    "\n",
    "    # 2)  Listar nombre (solo) actores. Formateado.\n",
    "    elif opcion == 2 : \n",
    "        l_actores = list(BBDD_actores.keys())     \n",
    "        \"\"\"\n",
    "        or we could create an empty list\n",
    "        l_actores = []\n",
    "        for actor in l_actores:\n",
    "            l_actores.append(actor)\n",
    "        \"\"\"   \n",
    "        print(l_actores)\n",
    "#    3)  Datos de actor dtdo. Formateado.\n",
    "    elif opcion == 3 :\n",
    "        # pedir al usuario un actor\n",
    "        while True:\n",
    "            req_actor = input(\"¿Qué actor quieres buscar? \")\n",
    "            # caso de no encontrar el actor en la base de datos (check keys????? PVAJJHAVLSJKH)\n",
    "            if req_actor not in BBDD_actores :\n",
    "                print(\"No se ha encontrado al actor, inserta otro.\")\n",
    "                continue\n",
    "            else:\n",
    "                for req_actor in BBDD_actores :\n",
    "                    print()\n",
    "                    \n",
    "                    \n",
    "                # para dicho actor, mostrar todos sus pares key-val\n",
    "                #for req_actor :\n",
    "                \n",
    "            #print()\n",
    "\n",
    "                \"\"\"outer_dict = {'dict1': {'a': 1, 'b': 2}, 'dict2': {'c': 3, 'd': 4}, 'dict3': {'e': 5, 'f': 6}}\n",
    "\n",
    "string = input(\"Enter a string: \")\n",
    "\n",
    "if string in outer_dict:\n",
    "    inner_dict = outer_dict[string]\n",
    "    for key, value in inner_dict.items():\n",
    "        print(f\"{key}: {value}\")\n",
    "else:\n",
    "    print(f\"The string '{string}' is not present in the dictionary. Please input another one.\")\n",
    "\"\"\"\n",
    "#    4)  Actores en rango años (userinput)\n",
    "#    5)  Actores determinado sexo\n",
    "#    6)  Actores que hayan participado en x película\n",
    "#    0)  Salir del programa\n",
    "\n",
    "\"\"\"\n",
    "\n",
    "# Access sample: print(BBDD_actores['Actor One']['año'])\n",
    "      \n",
    "\n",
    "Dict inside dict access\n",
    "my_nested_dictionary = {'mydict': {'A': 'Letter A', 'B': 'Letter C', 'C': 'Letter C'}}\n",
    "print(my_nested_dictionary['mydict']['A'])'''\n",
    "\n",
    "\"\"\""
   ]
  },
  {
   "cell_type": "markdown",
   "metadata": {},
   "source": [
    "## <font color='FIREBRICK'>Ejercicio 2 (1 punto)</font>\n",
    "\n",
    "<font size='3px'><p style=\"text-align: justify;line-height: 150%\">Repetir el ejercicio anterior pero utilizando funciones. Como mínimo debe crearse una función para mostrar el menú y recoger la opción elegida por el usuario, y una función por cada opción que encapsule las acciones que se realizan en cada opción en particular (como parámetros, deben recibir al menos la BBDD). Adicionalmente, se pueden crear funciones para mostrar por pantalla la BBDD o parte de ella con cierto formato.</p></font>"
   ]
  },
  {
   "cell_type": "code",
   "execution_count": null,
   "metadata": {},
   "outputs": [],
   "source": [
    "# Realice el ejercicio dentro del cuadro a continuación de esta línea  "
   ]
  },
  {
   "cell_type": "markdown",
   "metadata": {},
   "source": [
    "## <font color='FIREBRICK'>Ejercicio 3 (2 puntos)</font>\n",
    "\n",
    "<font size='3px'><p style=\"text-align: justify;line-height: 150%\"><font size='3px'><p style=\"text-align: justify;line-height: 150%\">Para no perder los datos que el usuario va introduciendo vamos a almacenar la BBDD en un fichero llamado 'actores.txt'. De esta forma, cada vez que se ejecute el programa deberán recuperarse los datos almacenados previamente y al salir del programa debe escribirse la información de la BBDD en fichero.</p></font></p></font>"
   ]
  },
  {
   "cell_type": "code",
   "execution_count": null,
   "metadata": {},
   "outputs": [],
   "source": [
    "# Realice el ejercicio dentro del cuadro a continuación de esta línea\n",
    "# Se propone esta estructra en el fichero de BBDD\n",
    "# Una línea por actor\n",
    "#Pepe;2000;masculino;pelicula01;pelicula02;pelicula03\n",
    "#Juan;1986;masculino;pelicula04;pelicula05"
   ]
  },
  {
   "cell_type": "markdown",
   "metadata": {},
   "source": [
    "#### <center><font color='INDIANRED'>Autor: Carlos González Calvo (carlosgo@ucm.es)</font></center>"
   ]
  }
 ],
 "metadata": {
  "kernelspec": {
   "display_name": "Python 3 (ipykernel)",
   "language": "python",
   "name": "python3"
  },
  "language_info": {
   "codemirror_mode": {
    "name": "ipython",
    "version": 3
   },
   "file_extension": ".py",
   "mimetype": "text/x-python",
   "name": "python",
   "nbconvert_exporter": "python",
   "pygments_lexer": "ipython3",
   "version": "3.11.0"
  },
  "vscode": {
   "interpreter": {
    "hash": "7d42d3ff18b591adf0b9f244529a72e573193a6f8d5299b4e4826453ab3576eb"
   }
  }
 },
 "nbformat": 4,
 "nbformat_minor": 2
}
